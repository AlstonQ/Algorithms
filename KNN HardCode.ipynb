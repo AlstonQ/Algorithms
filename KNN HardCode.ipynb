{
 "cells": [
  {
   "cell_type": "code",
   "execution_count": 1,
   "metadata": {},
   "outputs": [],
   "source": [
    "import pandas as pd\n",
    "import numpy as np\n",
    "import math\n",
    "import statistics"
   ]
  },
  {
   "cell_type": "markdown",
   "metadata": {},
   "source": [
    "Example Dataset"
   ]
  },
  {
   "cell_type": "code",
   "execution_count": 2,
   "metadata": {},
   "outputs": [],
   "source": [
    "url=\"https://archive.ics.uci.edu/ml/machine-learning-databases/glass/glass.data\"\n",
    "df=pd.read_csv(url,names=['Id','R.I','Na','Mg','Al','Si','K','Ca','Ba','Fe','Type'] )\n",
    "del df['Id']"
   ]
  },
  {
   "cell_type": "code",
   "execution_count": 3,
   "metadata": {},
   "outputs": [],
   "source": [
    "dt=df.iloc[:,0:9]"
   ]
  },
  {
   "cell_type": "code",
   "execution_count": 4,
   "metadata": {},
   "outputs": [],
   "source": [
    "#Scaling is because sometimes attributes become OneSide Biased \n",
    "from sklearn.preprocessing import StandardScaler\n",
    "scaler = StandardScaler()\n",
    "scaler.fit(dt)\n",
    "data = scaler.transform(dt)"
   ]
  },
  {
   "cell_type": "code",
   "execution_count": 5,
   "metadata": {},
   "outputs": [],
   "source": [
    "data= pd.DataFrame(data = data,columns = ['R.I','Na','Mg','Al','Si','K','Ca','Ba','Fe'])"
   ]
  },
  {
   "cell_type": "code",
   "execution_count": 6,
   "metadata": {},
   "outputs": [],
   "source": [
    "from sklearn.model_selection import train_test_split\n",
    "X_train, X_test, y_train, y_test = train_test_split(data,df['Type'],test_size=0.20,random_state=5)"
   ]
  },
  {
   "cell_type": "code",
   "execution_count": 9,
   "metadata": {},
   "outputs": [
    {
     "name": "stdout",
     "output_type": "stream",
     "text": [
      "Enter No of K-Nearest Neighbours: 1\n"
     ]
    }
   ],
   "source": [
    "k=int(input(\"Enter No of K-Nearest Neighbours: \"))\n",
    "pred=[]\n",
    "for i in range(0,X_test.shape[0]):\n",
    "    dist=[]\n",
    "    for j in range(0,X_train.shape[0]):\n",
    "        res = (X_train.iloc[j,:] - X_test.iloc[i,:]) ** 2\n",
    "        dist.append(math.sqrt(res.sum()))\n",
    "    final=pd.DataFrame({'Dist':dist,'Class':y_train})\n",
    "    final=final.sort_values(by=['Dist','Class'], ascending=[True,False])\n",
    "    try:\n",
    "        ans=int(final.head(k)['Class'].mode())\n",
    "    except:\n",
    "        ans=int(final.head(k)['Class'].max())\n",
    "    #print(ans)\n",
    "    pred.append(ans)\n",
    "# Here I calculate the distance of each testing point from each training point\n",
    "# Then I Pass it to the DClass function where I append the distance to the repective output and sort\n",
    "# The highest class is the predicting class by the Algorithm"
   ]
  },
  {
   "cell_type": "code",
   "execution_count": 10,
   "metadata": {},
   "outputs": [
    {
     "data": {
      "text/plain": [
       "0.7209302325581395"
      ]
     },
     "execution_count": 10,
     "metadata": {},
     "output_type": "execute_result"
    }
   ],
   "source": [
    "import numpy as np\n",
    "from sklearn.metrics import accuracy_score\n",
    "accuracy_score(y_test,pred)"
   ]
  },
  {
   "cell_type": "code",
   "execution_count": null,
   "metadata": {},
   "outputs": [],
   "source": []
  },
  {
   "cell_type": "code",
   "execution_count": null,
   "metadata": {},
   "outputs": [],
   "source": []
  },
  {
   "cell_type": "code",
   "execution_count": null,
   "metadata": {},
   "outputs": [],
   "source": []
  }
 ],
 "metadata": {
  "kernelspec": {
   "display_name": "Python 3",
   "language": "python",
   "name": "python3"
  },
  "language_info": {
   "codemirror_mode": {
    "name": "ipython",
    "version": 3
   },
   "file_extension": ".py",
   "mimetype": "text/x-python",
   "name": "python",
   "nbconvert_exporter": "python",
   "pygments_lexer": "ipython3",
   "version": "3.6.5"
  }
 },
 "nbformat": 4,
 "nbformat_minor": 2
}
