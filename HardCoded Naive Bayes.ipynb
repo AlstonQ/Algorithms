{
 "cells": [
  {
   "cell_type": "code",
   "execution_count": 1,
   "metadata": {},
   "outputs": [],
   "source": [
    "import pandas as pd \n",
    "import numpy as np"
   ]
  },
  {
   "cell_type": "code",
   "execution_count": 2,
   "metadata": {},
   "outputs": [],
   "source": [
    "df=pd.read_csv('buycomp.csv')\n",
    "df.columns = [\"Age\",\"Income\",\"Student\",\"Grade\",\"Prediction\"]"
   ]
  },
  {
   "cell_type": "code",
   "execution_count": 3,
   "metadata": {},
   "outputs": [],
   "source": [
    "pyes=(df.groupby('Prediction').get_group('yes').shape[0])/df.shape[0]\n",
    "pno =(df.groupby('Prediction').get_group('no').shape[0])/df.shape[0]"
   ]
  },
  {
   "cell_type": "markdown",
   "metadata": {},
   "source": [
    "Conditional Probabilities"
   ]
  },
  {
   "cell_type": "code",
   "execution_count": 4,
   "metadata": {},
   "outputs": [],
   "source": [
    "age    =df['Age'].unique().tolist()\n",
    "income =df['Income'].unique().tolist()\n",
    "student=df['Student'].unique().tolist()\n",
    "grade  =df['Grade'].unique().tolist()\n",
    "prediction=df['Prediction'].unique().tolist()"
   ]
  },
  {
   "cell_type": "code",
   "execution_count": 5,
   "metadata": {},
   "outputs": [],
   "source": [
    "p_age=[]\n",
    "p_income=[]\n",
    "p_student=[]\n",
    "p_grade=[]\n",
    "for i in range(0,len(prediction)):\n",
    "    for j in range(0,len(age)):\n",
    "        df1=df.groupby('Age').get_group(age[j])\n",
    "        try:\n",
    "            c=df1.groupby('Prediction').get_group(prediction[i]).shape[0]/df.groupby('Prediction').get_group(prediction[i]).shape[0]\n",
    "        except:\n",
    "            c=1/(df.shape[0]+df.groupby('Prediction').get_group(prediction[i]).shape[0])\n",
    "        p_age.append(c)\n",
    "    for j in range(0,len(income)):\n",
    "        df1=df.groupby('Income').get_group(income[j])\n",
    "        try:\n",
    "            c=df1.groupby('Prediction').get_group(prediction[i]).shape[0]/df.groupby('Prediction').get_group(prediction[i]).shape[0]\n",
    "        except:\n",
    "            c=1/df.shape[0]+df.groupby('Prediction').get_group(prediction[i]).shape[0]\n",
    "        p_income.append(c)\n",
    "    for j in range(0,len(student)):\n",
    "        df1=df.groupby('Student').get_group(student[j])\n",
    "        try:\n",
    "            c=df1.groupby('Prediction').get_group(prediction[i]).shape[0]/df.groupby('Prediction').get_group(prediction[i]).shape[0]\n",
    "        except:\n",
    "            c=1/df.shape[0]+df.groupby('Prediction').get_group(prediction[i]).shape[0]\n",
    "        p_student.append(c)\n",
    "    for j in range(0,len(grade)):\n",
    "        df1=df.groupby('Grade').get_group(grade[j])\n",
    "        try:\n",
    "            c=df1.groupby('Prediction').get_group(prediction[i]).shape[0]/df.groupby('Prediction').get_group(prediction[i]).shape[0]\n",
    "        except:\n",
    "            c=1/df.shape[0]+df.groupby('Prediction').get_group(prediction[i]).shape[0]\n",
    "        p_grade.append(c)"
   ]
  },
  {
   "cell_type": "code",
   "execution_count": null,
   "metadata": {},
   "outputs": [],
   "source": []
  },
  {
   "cell_type": "code",
   "execution_count": 6,
   "metadata": {},
   "outputs": [],
   "source": [
    "p_age_no =p_age[:len(p_age)//2]\n",
    "p_age_yes=p_age[len(p_age)//2:]\n",
    "\n",
    "p_income_no =p_income[:len(p_income)//2]\n",
    "p_income_yes=p_income[len(p_income)//2:]\n",
    "\n",
    "p_student_no =p_student[:len(p_student)//2]\n",
    "p_student_yes=p_student[len(p_student)//2:]\n",
    "\n",
    "p_grade_no =p_grade[:len(p_grade)//2]\n",
    "p_grade_yes=p_grade[len(p_grade)//2:]"
   ]
  },
  {
   "cell_type": "code",
   "execution_count": 7,
   "metadata": {},
   "outputs": [],
   "source": [
    "column1=[]\n",
    "column1.extend(age)\n",
    "column1.extend(income)\n",
    "column1.extend(student)\n",
    "column1.extend(grade)"
   ]
  },
  {
   "cell_type": "code",
   "execution_count": 8,
   "metadata": {},
   "outputs": [],
   "source": [
    "p_yes=[]\n",
    "p_yes.extend(p_age_yes)\n",
    "p_yes.extend(p_income_yes)\n",
    "p_yes.extend(p_student_yes)\n",
    "p_yes.extend(p_grade_yes)\n",
    "\n",
    "p_no=[]\n",
    "p_no.extend(p_age_no)\n",
    "p_no.extend(p_income_no)\n",
    "p_no.extend(p_student_no)\n",
    "p_no.extend(p_grade_no)"
   ]
  },
  {
   "cell_type": "code",
   "execution_count": 9,
   "metadata": {},
   "outputs": [],
   "source": [
    "probability_yes = pd.DataFrame({'Criteria': column1,'Probabilities': p_yes})\n",
    "probability_no  = pd.DataFrame({'Criteria': column1,'Probabilities': p_no})"
   ]
  },
  {
   "cell_type": "markdown",
   "metadata": {},
   "source": [
    "Classification Calculations"
   ]
  },
  {
   "cell_type": "code",
   "execution_count": 10,
   "metadata": {},
   "outputs": [
    {
     "name": "stdout",
     "output_type": "stream",
     "text": [
      "Enter Criterias to be Classified:  youth medium yes fair\n"
     ]
    }
   ],
   "source": [
    "output=input(\"Enter Criterias to be Classified:  \")\n",
    "#output='youth fair yes low'\n",
    "output=output.split()"
   ]
  },
  {
   "cell_type": "code",
   "execution_count": 11,
   "metadata": {},
   "outputs": [
    {
     "name": "stdout",
     "output_type": "stream",
     "text": [
      "Probability of Yes 0.028218694885361547\n",
      "Probability of No 0.006857142857142858\n",
      "\n",
      "The Person will buy the Computer\n"
     ]
    }
   ],
   "source": [
    "x=1\n",
    "for i in range(0,len(output)):\n",
    "    x=x*((probability_yes[probability_yes['Criteria'] == output[i]]['Probabilities'].iloc[0]))\n",
    "ansy=x*pyes\n",
    "print('Probability of Yes',ansy)\n",
    "y=1\n",
    "for i in range(0,len(output)):\n",
    "    y=y*((probability_no[probability_no['Criteria'] == output[i]]['Probabilities'].iloc[0]))\n",
    "ansn=y*pno\n",
    "print('Probability of No',ansn)\n",
    "if (ansy>ansn):\n",
    "    print('\\nThe Person will buy the Computer')\n",
    "else:\n",
    "    print('\\nThe Person will not buy the Computer')"
   ]
  },
  {
   "cell_type": "code",
   "execution_count": null,
   "metadata": {},
   "outputs": [],
   "source": []
  },
  {
   "cell_type": "code",
   "execution_count": null,
   "metadata": {},
   "outputs": [],
   "source": []
  },
  {
   "cell_type": "code",
   "execution_count": null,
   "metadata": {},
   "outputs": [],
   "source": []
  },
  {
   "cell_type": "code",
   "execution_count": null,
   "metadata": {},
   "outputs": [],
   "source": []
  },
  {
   "cell_type": "code",
   "execution_count": null,
   "metadata": {},
   "outputs": [],
   "source": []
  },
  {
   "cell_type": "code",
   "execution_count": null,
   "metadata": {},
   "outputs": [],
   "source": []
  },
  {
   "cell_type": "code",
   "execution_count": null,
   "metadata": {},
   "outputs": [],
   "source": []
  },
  {
   "cell_type": "code",
   "execution_count": null,
   "metadata": {},
   "outputs": [],
   "source": []
  }
 ],
 "metadata": {
  "kernelspec": {
   "display_name": "Python 3",
   "language": "python",
   "name": "python3"
  },
  "language_info": {
   "codemirror_mode": {
    "name": "ipython",
    "version": 3
   },
   "file_extension": ".py",
   "mimetype": "text/x-python",
   "name": "python",
   "nbconvert_exporter": "python",
   "pygments_lexer": "ipython3",
   "version": "3.6.5"
  }
 },
 "nbformat": 4,
 "nbformat_minor": 2
}
